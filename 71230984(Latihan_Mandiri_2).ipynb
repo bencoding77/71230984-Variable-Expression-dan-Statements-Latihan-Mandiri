{
  "nbformat": 4,
  "nbformat_minor": 0,
  "metadata": {
    "colab": {
      "provenance": []
    },
    "kernelspec": {
      "name": "python3",
      "display_name": "Python 3"
    },
    "language_info": {
      "name": "python"
    }
  },
  "cells": [
    {
      "cell_type": "markdown",
      "source": [
        "Soal 1"
      ],
      "metadata": {
        "id": "s-lLcHgtHNWR"
      }
    },
    {
      "cell_type": "code",
      "source": [
        "berat_badan = int(input(\"Masukkan berat badan dalam Kg: \"))\n",
        "tinggi_badan = float(input(\"Masukkan tinggi badan dalam Meter: \"))\n",
        "rumus_bmi = berat_badan / (tinggi_badan * tinggi_badan)\n",
        "print(\"BMI anda adalah :\", round(rumus_bmi))"
      ],
      "metadata": {
        "colab": {
          "base_uri": "https://localhost:8080/"
        },
        "id": "dMG4hG9nHO4H",
        "outputId": "b979968b-c9e7-4655-c74d-a27486bc5810"
      },
      "execution_count": 1,
      "outputs": [
        {
          "output_type": "stream",
          "name": "stdout",
          "text": [
            "Masukkan berat badan dalam Kg: 50\n",
            "Masukkan tinggi badan dalam Meter: 1.74\n",
            "BMI anda adalah : 17\n"
          ]
        }
      ]
    },
    {
      "cell_type": "markdown",
      "source": [
        "Soal 2"
      ],
      "metadata": {
        "id": "eqj1JBAbHctt"
      }
    },
    {
      "cell_type": "code",
      "source": [
        "x = int(input(\"Masukkan nilai x : \"))\n",
        "fungsi_x = (2 * x **3) + (2 * x) + 15/x\n",
        "print(\"Hasilnya adalah :\", round(fungsi_x))"
      ],
      "metadata": {
        "colab": {
          "base_uri": "https://localhost:8080/"
        },
        "id": "E8gVqvJzHejx",
        "outputId": "f387fa8f-808c-4b0d-ce8e-5a5ee2e6407e"
      },
      "execution_count": 2,
      "outputs": [
        {
          "output_type": "stream",
          "name": "stdout",
          "text": [
            "Masukkan nilai x : 15\n",
            "Hasilnya adalah : 6781\n"
          ]
        }
      ]
    },
    {
      "cell_type": "markdown",
      "source": [
        "Soal 3"
      ],
      "metadata": {
        "id": "MohoM4YsHkaq"
      }
    },
    {
      "cell_type": "code",
      "source": [
        "gajiJam = int(input(\"Masukkan gaji per Jam yang anda inginkan: \"))\n",
        "jamKerja = int(input(\"Masukkan jam kerja per Minggu: \"))\n",
        "\n",
        "belum_pajak = (jamKerja * 5) * gajiJam\n",
        "print(\"Pendapatan Budi sebelum Kena Pajak: Rp.\", belum_pajak)\n",
        "\n",
        "besar_pajak = belum_pajak * 0.14\n",
        "setelah_pajak = belum_pajak - besar_pajak\n",
        "print(\"Pendapatan Budi setelah Kena Pajak: Rp.\", round(setelah_pajak))\n",
        "\n",
        "beli_1 = setelah_pajak * 0.1\n",
        "sisa_1 = setelah_pajak - beli_1\n",
        "print(\"Jumlah uang yang Budi keluarkan untuk Pakaian dan Aksesoris: Rp.\", round(beli_1))\n",
        "print(\"Sisa uang Budi: Rp.\", round(sisa_1))\n",
        "\n",
        "beli_2 = setelah_pajak * 0.01\n",
        "sisa_2 = sisa_1 - beli_2\n",
        "print(\"Jumlah uang yang Budi keluarkan untuk Alat Tulis: Rp.\", round(beli_2))\n",
        "print(\"Sisa uang Budi: Rp.\", round(sisa_2))\n",
        "\n",
        "sedekah_1 = sisa_2 * 0.25\n",
        "sisa_3 = sisa_2 - sedekah_1\n",
        "print(\"Jumlah uang yang Budi sedekahkan: Rp.\", round(sedekah_1))\n",
        "print(\"Sisa uang Budi: Rp.\", round(sisa_3))\n",
        "\n",
        "per_seribu = sedekah_1\n",
        "while per_seribu % 1000 == 0 and per_seribu >= 1000 or per_seribu % 1000 != 0 and per_seribu >= 1000:\n",
        "        per_seribu -= 1000\n",
        "\n",
        "untuk_yatim = (sedekah_1 - per_seribu) * 0.3\n",
        "untuk_dhuafa = (sedekah_1 - per_seribu) * 0.7\n",
        "\n",
        "print(\"Jumlah sedekah untuk yatim: Rp.\", round(untuk_yatim))\n",
        "print(\"Jumlah sedekah untuk dhuafa: Rp.\", round(untuk_dhuafa))"
      ],
      "metadata": {
        "colab": {
          "base_uri": "https://localhost:8080/"
        },
        "id": "H5t0pI-LHldz",
        "outputId": "ac7f5fbf-b860-4392-ca76-9e860556f02a"
      },
      "execution_count": 3,
      "outputs": [
        {
          "output_type": "stream",
          "name": "stdout",
          "text": [
            "Masukkan gaji per Jam yang anda inginkan: 1000000\n",
            "Masukkan jam kerja per Minggu: 5\n",
            "Pendapatan Budi sebelum Kena Pajak: Rp. 25000000\n",
            "Pendapatan Budi setelah Kena Pajak: Rp. 21500000\n",
            "Jumlah uang yang Budi keluarkan untuk Pakaian dan Aksesoris: Rp. 2150000\n",
            "Sisa uang Budi: Rp. 19350000\n",
            "Jumlah uang yang Budi keluarkan untuk Alat Tulis: Rp. 215000\n",
            "Sisa uang Budi: Rp. 19135000\n",
            "Jumlah uang yang Budi sedekahkan: Rp. 4783750\n",
            "Sisa uang Budi: Rp. 14351250\n",
            "Jumlah sedekah untuk yatim: Rp. 1434900\n",
            "Jumlah sedekah untuk dhuafa: Rp. 3348100\n"
          ]
        }
      ]
    }
  ]
}